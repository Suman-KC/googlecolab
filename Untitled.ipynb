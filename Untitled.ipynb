{
  "nbformat": 4,
  "nbformat_minor": 0,
  "metadata": {
    "colab": {
      "provenance": [],
      "authorship_tag": "ABX9TyNY96GBr4w44ffvJrnHevUD",
      "include_colab_link": true
    },
    "kernelspec": {
      "name": "python3",
      "display_name": "Python 3"
    },
    "language_info": {
      "name": "python"
    },
    "accelerator": "GPU",
    "gpuClass": "standard"
  },
  "cells": [
    {
      "cell_type": "markdown",
      "metadata": {
        "id": "view-in-github",
        "colab_type": "text"
      },
      "source": [
        "<a href=\"https://colab.research.google.com/github/Suman-KC/googlecolab/blob/main/Untitled.ipynb\" target=\"_parent\"><img src=\"https://colab.research.google.com/assets/colab-badge.svg\" alt=\"Open In Colab\"/></a>"
      ]
    },
    {
      "cell_type": "code",
      "execution_count": 1,
      "metadata": {
        "id": "H_UX2fcRlhVY",
        "colab": {
          "base_uri": "https://localhost:8080/"
        },
        "outputId": "4a71285d-9e08-4039-e90c-b97b7089f2b2"
      },
      "outputs": [
        {
          "output_type": "stream",
          "name": "stdout",
          "text": [
            "enter first number5\n",
            "enter second number23\n",
            "sum is28\n"
          ]
        }
      ],
      "source": [
        "def sum(a,b):\n",
        "  x=a+b\n",
        "  print(\"sum is{0}\".format(x))\n",
        "a=int(input(\"enter first number\"))\n",
        "b=int(input(\"enter second number\"))\n",
        "sum(a,b)\n",
        "\n",
        "\n",
        "\n",
        "\n",
        "\n",
        "  "
      ]
    },
    {
      "cell_type": "code",
      "source": [
        "a=[[1,2,3],[1,2,3],[1,2,3]]\n",
        "b=[[1,2,3],[1,2,3],[1,2,3]]\n",
        "print (type(b))\n",
        "print(a[0][2])\n",
        "c=[[2,2,2],[2,3,2],[1,2,3]]\n",
        "for i in range(0,3):\n",
        "  for j in range(0,3):\n",
        "   sum=0\n",
        "   for k in range(0,3):\n",
        "     sum=sum+a[i][k]+b[k][j]\n",
        "   c[i][j]=sum  \n",
        "for i in c:\n",
        "    print(i)\n"
      ],
      "metadata": {
        "id": "XVxP6Z8bmCu3",
        "colab": {
          "base_uri": "https://localhost:8080/"
        },
        "outputId": "7be4f3f7-194f-4009-c31f-f0b42ab6f230"
      },
      "execution_count": 2,
      "outputs": [
        {
          "output_type": "stream",
          "name": "stdout",
          "text": [
            "<class 'list'>\n",
            "3\n",
            "[9, 12, 15]\n",
            "[9, 12, 15]\n",
            "[9, 12, 15]\n"
          ]
        }
      ]
    },
    {
      "cell_type": "code",
      "source": [
        "def fact(n):\n",
        "  sum=0\n",
        "  for i in range(0,n+1):\n",
        "    if i==0 :\n",
        "      sum=1\n",
        "    elif i==1:\n",
        "      sum=1  \n",
        "    else:  \n",
        "     sum=sum*i\n",
        "  print(\"fact=\",sum)\n",
        "b=int(input(\"enter any number\"))\n",
        "fact(b)"
      ],
      "metadata": {
        "id": "x_ix0w70v4y8",
        "colab": {
          "base_uri": "https://localhost:8080/"
        },
        "outputId": "62fa7b3a-2af1-439c-9d4e-af8604f4dcb8"
      },
      "execution_count": 21,
      "outputs": [
        {
          "output_type": "stream",
          "name": "stdout",
          "text": [
            "enter any number7\n",
            "fact= 5040\n"
          ]
        }
      ]
    },
    {
      "cell_type": "code",
      "source": [
        "\\"
      ],
      "metadata": {
        "id": "AVf5o77QyWoq"
      },
      "execution_count": null,
      "outputs": []
    }
  ]
}