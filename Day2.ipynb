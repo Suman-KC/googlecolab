{
  "nbformat": 4,
  "nbformat_minor": 0,
  "metadata": {
    "colab": {
      "provenance": [],
      "authorship_tag": "ABX9TyPw4ApF9o8m2WzuNj/gPH5H",
      "include_colab_link": true
    },
    "kernelspec": {
      "name": "python3",
      "display_name": "Python 3"
    },
    "language_info": {
      "name": "python"
    }
  },
  "cells": [
    {
      "cell_type": "markdown",
      "metadata": {
        "id": "view-in-github",
        "colab_type": "text"
      },
      "source": [
        "<a href=\"https://colab.research.google.com/github/Suman-KC/googlecolab/blob/main/Day2.ipynb\" target=\"_parent\"><img src=\"https://colab.research.google.com/assets/colab-badge.svg\" alt=\"Open In Colab\"/></a>"
      ]
    },
    {
      "cell_type": "code",
      "execution_count": 1,
      "metadata": {
        "colab": {
          "base_uri": "https://localhost:8080/"
        },
        "id": "W63XB0gQcuox",
        "outputId": "3f7442be-217d-4f30-f4c8-0fee46d336bf"
      },
      "outputs": [
        {
          "output_type": "stream",
          "name": "stdout",
          "text": [
            "enter the number3\n",
            "enter your roll4\n",
            "enter your agexdfg\n",
            "enter your adresssfdds\n",
            "enter your roll3\n",
            "enter your agesdfsd\n",
            "enter your adresssdfdsf\n",
            "enter your roll3\n",
            "enter your agesdfas\n",
            "enter your adressgfgdf\n",
            "((4, 'xdfg', 'sfdds'), (3, 'sdfsd', 'sdfdsf'), (3, 'sdfas', 'gfgdf'))\n"
          ]
        }
      ],
      "source": [
        "a=()\n",
        "n=int(input(\"enter the number\"))\n",
        "for i in range(n):\n",
        "  roll=int(input(\"enter your roll\"))\n",
        "  age=str(input(\"enter your age\"))\n",
        "  adress=str(input(\"enter your adress\"))\n",
        "  a=a+((roll,age,adress),)\n",
        "print(a)"
      ]
    },
    {
      "cell_type": "code",
      "source": [
        "a=((4, 'xdfg', 'sfdds'), (3, 'sdfsd', 'sdfdsf'), (3, 'sdfas', 'gfgdf'))\n",
        "b=list(a)\n",
        "b.append((3,'adf','cdj'))\n"
      ],
      "metadata": {
        "colab": {
          "base_uri": "https://localhost:8080/"
        },
        "id": "GT1n_G38eri1",
        "outputId": "071f9eff-4916-40df-f4b3-424745cfbed0"
      },
      "execution_count": 5,
      "outputs": [
        {
          "output_type": "execute_result",
          "data": {
            "text/plain": [
              "[(4, 'xdfg', 'sfdds'), (3, 'sdfsd', 'sdfdsf'), (3, 'sdfas', 'gfgdf')]"
            ]
          },
          "metadata": {},
          "execution_count": 5
        }
      ]
    },
    {
      "cell_type": "code",
      "source": [
        "n=int(input(\"enter any number\"))\n",
        "for i in range(1,11):\n",
        "  j=n*i\n",
        "  print(\"{0}*{1}={2}\".format(n,i,j))\n",
        "\n",
        "  "
      ],
      "metadata": {
        "colab": {
          "base_uri": "https://localhost:8080/"
        },
        "id": "BuI8n5lygCNI",
        "outputId": "e118397d-eea5-4be3-f0f7-14abde2bc475"
      },
      "execution_count": 3,
      "outputs": [
        {
          "output_type": "stream",
          "name": "stdout",
          "text": [
            "enter any number4\n",
            "4*1=4\n",
            "4*2=8\n",
            "4*3=12\n",
            "4*4=16\n",
            "4*5=20\n",
            "4*6=24\n",
            "4*7=28\n",
            "4*8=32\n",
            "4*9=36\n",
            "4*10=40\n"
          ]
        }
      ]
    },
    {
      "cell_type": "code",
      "source": [
        "n=int(input(\"enter any number\"))\n",
        "j=0\n",
        "for i in range(1,n+1):\n",
        "  j=j+i\n",
        "print(\"the sum of first {0} natural number is :{1}\".format(n,j))  "
      ],
      "metadata": {
        "colab": {
          "base_uri": "https://localhost:8080/"
        },
        "id": "BGEhGFnegteO",
        "outputId": "300b6da3-f9d9-4641-f232-4a86e1f0dcaa"
      },
      "execution_count": 9,
      "outputs": [
        {
          "output_type": "stream",
          "name": "stdout",
          "text": [
            "enter any number20\n",
            "the sum of first 20 natural number is :190\n"
          ]
        }
      ]
    },
    {
      "cell_type": "code",
      "source": [
        "flag=0\n",
        "n=int(input(\"enter any number you want to check\"))\n",
        "for i in range(1,n+1):\n",
        "  if (n%i) == 0:\n",
        "    flag=flag+1;\n",
        "if flag==2:\n",
        " print(\"given number is  prime number \")\n",
        "else:\n",
        "  print(\"given number is not prime number\") "
      ],
      "metadata": {
        "colab": {
          "base_uri": "https://localhost:8080/"
        },
        "id": "n5AW_qi7hvNJ",
        "outputId": "4c2ad15d-9dad-4740-f4fd-fb2f7f016c1b"
      },
      "execution_count": 19,
      "outputs": [
        {
          "output_type": "stream",
          "name": "stdout",
          "text": [
            "enter any number you want to check7\n",
            "given number is  prime number \n"
          ]
        }
      ]
    },
    {
      "cell_type": "code",
      "source": [
        "for i in range(101):\n",
        "  if(i%2)==0:\n",
        "    print()\n",
        "  else:\n",
        "    print(i)  "
      ],
      "metadata": {
        "colab": {
          "base_uri": "https://localhost:8080/"
        },
        "id": "txkdkM1gjqAZ",
        "outputId": "25c27186-905b-4381-a8d7-6439271d98a6"
      },
      "execution_count": 20,
      "outputs": [
        {
          "output_type": "stream",
          "name": "stdout",
          "text": [
            "\n",
            "1\n",
            "\n",
            "3\n",
            "\n",
            "5\n",
            "\n",
            "7\n",
            "\n",
            "9\n",
            "\n",
            "11\n",
            "\n",
            "13\n",
            "\n",
            "15\n",
            "\n",
            "17\n",
            "\n",
            "19\n",
            "\n",
            "21\n",
            "\n",
            "23\n",
            "\n",
            "25\n",
            "\n",
            "27\n",
            "\n",
            "29\n",
            "\n",
            "31\n",
            "\n",
            "33\n",
            "\n",
            "35\n",
            "\n",
            "37\n",
            "\n",
            "39\n",
            "\n",
            "41\n",
            "\n",
            "43\n",
            "\n",
            "45\n",
            "\n",
            "47\n",
            "\n",
            "49\n",
            "\n",
            "51\n",
            "\n",
            "53\n",
            "\n",
            "55\n",
            "\n",
            "57\n",
            "\n",
            "59\n",
            "\n",
            "61\n",
            "\n",
            "63\n",
            "\n",
            "65\n",
            "\n",
            "67\n",
            "\n",
            "69\n",
            "\n",
            "71\n",
            "\n",
            "73\n",
            "\n",
            "75\n",
            "\n",
            "77\n",
            "\n",
            "79\n",
            "\n",
            "81\n",
            "\n",
            "83\n",
            "\n",
            "85\n",
            "\n",
            "87\n",
            "\n",
            "89\n",
            "\n",
            "91\n",
            "\n",
            "93\n",
            "\n",
            "95\n",
            "\n",
            "97\n",
            "\n",
            "99\n",
            "\n"
          ]
        }
      ]
    },
    {
      "cell_type": "code",
      "source": [
        "alphabet=[\"A\",\"B\",\"C\",\"D\",\"E\"]\n",
        "for i in alphabet:\n",
        "  print(i)"
      ],
      "metadata": {
        "colab": {
          "base_uri": "https://localhost:8080/"
        },
        "id": "UlgOhqhImTKi",
        "outputId": "3a4c2577-44c5-4bd7-c109-6e8de1c9f397"
      },
      "execution_count": 21,
      "outputs": [
        {
          "output_type": "stream",
          "name": "stdout",
          "text": [
            "A\n",
            "B\n",
            "C\n",
            "D\n",
            "E\n"
          ]
        }
      ]
    },
    {
      "cell_type": "code",
      "source": [
        "a=([\"Ram\",23,\"dang\"],[\"shyam\",23,\"ktm\"],[\"sita\",56,\"dang\"])\n",
        "a[0].append(\"98765445678\")\n",
        "a"
      ],
      "metadata": {
        "colab": {
          "base_uri": "https://localhost:8080/"
        },
        "id": "u1eTxucOnGNf",
        "outputId": "6241bbe5-1841-4136-a1f0-b5c20b877b31"
      },
      "execution_count": 22,
      "outputs": [
        {
          "output_type": "execute_result",
          "data": {
            "text/plain": [
              "(['Ram', 23, 'dang', '98765445678'],\n",
              " ['shyam', 23, 'ktm'],\n",
              " ['sita', 56, 'dang'])"
            ]
          },
          "metadata": {},
          "execution_count": 22
        }
      ]
    },
    {
      "cell_type": "code",
      "source": [],
      "metadata": {
        "id": "bleYuft8nmlj"
      },
      "execution_count": null,
      "outputs": []
    }
  ]
}